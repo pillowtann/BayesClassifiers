{
 "cells": [
  {
   "cell_type": "markdown",
   "metadata": {},
   "source": [
    "### Table of Contents\n",
    "\n",
    "This Jupyter Notebook is complementary to the PDF report submitted. Please refer to the report for more explanations according to the requested information of the assignment. For the graded portions, you may jump straight to the [Actual Codes](#Actual-Codes) onwards.\n",
    "\n",
    "[Load Packages](#Load-Packages)<br>\n",
    "[Data Description](#Data-Description)<br>\n",
    "[Data Processing](#Data-Processing)<br>\n",
    "[Q1. Beta-binomial Naive Bayes](#Q1.-Beta-binomial-Naive-Bayes)\n",
    "* [Exploratory](#Exploratory)<br>\n",
    "* [Actual Codes](#Actual-Codes)<br>\n",
    "* [Q1 (a)](#Q1-(a))\n",
    "* [Q1 (b)](#Q1-(b))\n",
    "* [Q1 (c)](#Q1-(c))\n",
    "\n",
    "[Q2. Gaussian Naive Bayes](#Q2.-Gaussian-Naive-Bayes)\n",
    "* [Q2 (a)](#Q2-(a))\n",
    "\n",
    "[Q3. Logistic Regression](#Q3.-Logistic-Regression)\n",
    "* [Q3 (a)](#Q3-(a))\n",
    "* [Q3 (b)](#Q3-(b))\n",
    "* [Q3 (c)](#Q3-(c))\n",
    "\n",
    "[Q4. K-Nearest Neighbors](#Q4.-K-Nearest-Neighbors)<br>\n",
    "* [Q4 (a)](#Q4-(a))\n",
    "* [Q4 (b)](#Q4-(b))\n",
    "* [Q4 (c)](#Q4-(c))\n",
    "\n",
    "[Q5. Survey](#Q5.-Survey)<br>"
   ]
  },
  {
   "cell_type": "code",
   "execution_count": 1,
   "metadata": {},
   "outputs": [],
   "source": [
    "# load packages\n",
    "from scipy.io import loadmat\n",
    "import pandas as pd\n",
    "import numpy as np\n",
    "import matplotlib.pyplot as plt"
   ]
  },
  {
   "cell_type": "markdown",
   "metadata": {},
   "source": [
    "## Data Description\n",
    "The data is an email spam dataset, consisting of 4601 email messages with 57 features. Feature\n",
    "descriptions are found [in this link](https://web.stanford.edu/~hastie/ElemStatLearn/datasets/spam.info.txt). We have divided the data into a training set (3065 emails)\n",
    "and test set (1536 emails) with accompanying labels (1 = spam , 0 = not spam)."
   ]
  },
  {
   "cell_type": "code",
   "execution_count": 2,
   "metadata": {},
   "outputs": [
    {
     "name": "stdout",
     "output_type": "stream",
     "text": [
      "{'__header__': b'MATLAB 5.0 MAT-file, Platform: MACI64, Created on: Sun Aug  9 09:46:15 2020', '__version__': '1.0', '__globals__': [], 'Xtrain': array([[5.100e-01, 4.300e-01, 2.900e-01, ..., 6.518e+00, 6.110e+02,\n",
      "        2.340e+03],\n",
      "       [0.000e+00, 0.000e+00, 1.440e+00, ..., 2.380e+00, 8.000e+00,\n",
      "        5.000e+01],\n",
      "       [1.600e-01, 3.200e-01, 6.500e-01, ..., 6.586e+00, 1.320e+02,\n",
      "        9.550e+02],\n",
      "       ...,\n",
      "       [0.000e+00, 0.000e+00, 0.000e+00, ..., 1.759e+00, 2.100e+01,\n",
      "        4.030e+02],\n",
      "       [0.000e+00, 0.000e+00, 0.000e+00, ..., 2.333e+00, 1.000e+01,\n",
      "        4.900e+01],\n",
      "       [0.000e+00, 0.000e+00, 0.000e+00, ..., 1.433e+00, 5.000e+00,\n",
      "        8.600e+01]]), 'Xtest': array([[  0.   ,   0.   ,   0.   , ...,   1.536,   8.   ,  63.   ],\n",
      "       [  0.   ,   0.   ,   0.   , ...,   1.25 ,   3.   ,  15.   ],\n",
      "       [  0.   ,   0.   ,   0.41 , ...,   1.522,  11.   ,  67.   ],\n",
      "       ...,\n",
      "       [  0.   ,   0.   ,   0.   , ...,   2.044,  22.   ,  92.   ],\n",
      "       [  0.   ,   0.   ,   0.   , ...,   2.   ,   3.   ,   6.   ],\n",
      "       [  0.   ,   0.36 ,   0.   , ...,   6.423,  43.   , 334.   ]]), 'ytrain': array([[1],\n",
      "       [0],\n",
      "       [1],\n",
      "       ...,\n",
      "       [0],\n",
      "       [0],\n",
      "       [0]], dtype=uint8), 'ytest': array([[0],\n",
      "       [0],\n",
      "       [0],\n",
      "       ...,\n",
      "       [1],\n",
      "       [0],\n",
      "       [0]], dtype=uint8)}\n"
     ]
    }
   ],
   "source": [
    "# load data\n",
    "data = loadmat('spamData.mat')\n",
    "# preview data\n",
    "print(data)"
   ]
  },
  {
   "cell_type": "code",
   "execution_count": 3,
   "metadata": {},
   "outputs": [],
   "source": [
    "# convert to pandas dataframes for visualising and simple processing\n",
    "X_train = pd.DataFrame(data['Xtrain'])\n",
    "X_test = pd.DataFrame(data['Xtest'])\n",
    "y_train = pd.DataFrame(data['ytrain'])\n",
    "y_test = pd.DataFrame(data['ytest'])"
   ]
  },
  {
   "cell_type": "markdown",
   "metadata": {},
   "source": [
    "### Data Processing\n",
    "One can try different preprocessing of the features. Consider the following separately:"
   ]
  },
  {
   "cell_type": "markdown",
   "metadata": {},
   "source": [
    "##### (a) log-transform: \n",
    "Transform each feature using log(xij + 0.1) (assume natural log)"
   ]
  },
  {
   "cell_type": "code",
   "execution_count": 4,
   "metadata": {},
   "outputs": [],
   "source": [
    "# transform\n",
    "log_X_train = X_train.applymap(lambda x: np.log(x+0.1))\n",
    "log_X_test = X_test.applymap(lambda x: np.log(x+0.1))"
   ]
  },
  {
   "cell_type": "code",
   "execution_count": 5,
   "metadata": {},
   "outputs": [
    {
     "name": "stdout",
     "output_type": "stream",
     "text": [
      "     0     1     2    3     4     5     6     7     8     9   ...   47     48  \\\n",
      "0  0.51  0.43  0.29  0.0  0.14  0.03  0.00  0.18  0.54  0.62  ...  0.0  0.012   \n",
      "1  0.00  0.00  1.44  0.0  0.00  0.00  0.00  0.00  0.00  0.00  ...  0.0  0.000   \n",
      "2  0.16  0.32  0.65  0.0  0.32  0.00  0.16  0.00  0.00  0.49  ...  0.0  0.000   \n",
      "3  0.00  0.00  0.00  0.0  0.00  0.00  0.00  0.00  0.00  0.00  ...  0.0  0.000   \n",
      "4  0.00  0.22  0.33  0.0  0.22  0.11  0.00  0.00  0.00  0.00  ...  0.0  0.019   \n",
      "\n",
      "      49   50     51     52     53     54     55      56  \n",
      "0  0.078  0.0  0.478  0.509  0.127  6.518  611.0  2340.0  \n",
      "1  0.247  0.0  0.000  0.000  0.000  2.380    8.0    50.0  \n",
      "2  0.000  0.0  0.773  0.080  0.080  6.586  132.0   955.0  \n",
      "3  0.000  0.0  0.000  0.000  0.000  2.333    5.0     7.0  \n",
      "4  0.253  0.0  0.000  0.000  0.000  2.068   11.0   395.0  \n",
      "\n",
      "[5 rows x 57 columns]\n",
      "         0         1         2         3         4         5         6   \\\n",
      "0 -0.494296 -0.634878 -0.941609 -2.302585 -1.427116 -2.040221 -2.302585   \n",
      "1 -2.302585 -2.302585  0.431782 -2.302585 -2.302585 -2.302585 -2.302585   \n",
      "2 -1.347074 -0.867501 -0.287682 -2.302585 -0.867501 -2.302585 -1.347074   \n",
      "3 -2.302585 -2.302585 -2.302585 -2.302585 -2.302585 -2.302585 -2.302585   \n",
      "4 -2.302585 -1.139434 -0.843970 -2.302585 -1.139434 -1.560648 -2.302585   \n",
      "\n",
      "         7         8         9   ...        47        48        49        50  \\\n",
      "0 -1.272966 -0.446287 -0.328504  ... -2.302585 -2.189256 -1.725972 -2.302585   \n",
      "1 -2.302585 -2.302585 -2.302585  ... -2.302585 -2.302585 -1.058430 -2.302585   \n",
      "2 -2.302585 -2.302585 -0.527633  ... -2.302585 -2.302585 -2.302585 -2.302585   \n",
      "3 -2.302585 -2.302585 -2.302585  ... -2.302585 -2.302585 -2.302585 -2.302585   \n",
      "4 -2.302585 -2.302585 -2.302585  ... -2.302585 -2.128632 -1.041287 -2.302585   \n",
      "\n",
      "         51        52        53        54        55        56  \n",
      "0 -0.548181 -0.495937 -1.482805  1.889793  6.415261  7.757949  \n",
      "1 -2.302585 -2.302585 -2.302585  0.908259  2.091864  3.914021  \n",
      "2 -0.135820 -1.714798 -1.714798  1.900016  4.883559  6.861816  \n",
      "3 -2.302585 -2.302585 -2.302585  0.889125  1.629241  1.960095  \n",
      "4 -2.302585 -2.302585 -2.302585  0.773805  2.406945  5.979139  \n",
      "\n",
      "[5 rows x 57 columns]\n"
     ]
    }
   ],
   "source": [
    "# preview & compare\n",
    "print(X_train.head())\n",
    "print(log_X_train.head())"
   ]
  },
  {
   "cell_type": "markdown",
   "metadata": {},
   "source": [
    "##### (b) binarization: \n",
    "Binarize features: I(xij > 0). In other words, if a feature is greater than 0, it’s simply set to 1. If it’s less than or equal to 0, it’s set to 0."
   ]
  },
  {
   "cell_type": "code",
   "execution_count": 6,
   "metadata": {},
   "outputs": [],
   "source": [
    "# transform\n",
    "bnrz_X_train = X_train.applymap(lambda x: 1 if x>0 else 0)\n",
    "bnrz_X_test = X_test.applymap(lambda x: 1 if x>0 else 0)"
   ]
  },
  {
   "cell_type": "code",
   "execution_count": 7,
   "metadata": {},
   "outputs": [
    {
     "name": "stdout",
     "output_type": "stream",
     "text": [
      "     0     1     2    3     4     5     6     7     8     9   ...   47     48  \\\n",
      "0  0.51  0.43  0.29  0.0  0.14  0.03  0.00  0.18  0.54  0.62  ...  0.0  0.012   \n",
      "1  0.00  0.00  1.44  0.0  0.00  0.00  0.00  0.00  0.00  0.00  ...  0.0  0.000   \n",
      "2  0.16  0.32  0.65  0.0  0.32  0.00  0.16  0.00  0.00  0.49  ...  0.0  0.000   \n",
      "3  0.00  0.00  0.00  0.0  0.00  0.00  0.00  0.00  0.00  0.00  ...  0.0  0.000   \n",
      "4  0.00  0.22  0.33  0.0  0.22  0.11  0.00  0.00  0.00  0.00  ...  0.0  0.019   \n",
      "\n",
      "      49   50     51     52     53     54     55      56  \n",
      "0  0.078  0.0  0.478  0.509  0.127  6.518  611.0  2340.0  \n",
      "1  0.247  0.0  0.000  0.000  0.000  2.380    8.0    50.0  \n",
      "2  0.000  0.0  0.773  0.080  0.080  6.586  132.0   955.0  \n",
      "3  0.000  0.0  0.000  0.000  0.000  2.333    5.0     7.0  \n",
      "4  0.253  0.0  0.000  0.000  0.000  2.068   11.0   395.0  \n",
      "\n",
      "[5 rows x 57 columns]\n",
      "   0   1   2   3   4   5   6   7   8   9   ...  47  48  49  50  51  52  53  \\\n",
      "0   1   1   1   0   1   1   0   1   1   1  ...   0   1   1   0   1   1   1   \n",
      "1   0   0   1   0   0   0   0   0   0   0  ...   0   0   1   0   0   0   0   \n",
      "2   1   1   1   0   1   0   1   0   0   1  ...   0   0   0   0   1   1   1   \n",
      "3   0   0   0   0   0   0   0   0   0   0  ...   0   0   0   0   0   0   0   \n",
      "4   0   1   1   0   1   1   0   0   0   0  ...   0   1   1   0   0   0   0   \n",
      "\n",
      "   54  55  56  \n",
      "0   1   1   1  \n",
      "1   1   1   1  \n",
      "2   1   1   1  \n",
      "3   1   1   1  \n",
      "4   1   1   1  \n",
      "\n",
      "[5 rows x 57 columns]\n"
     ]
    }
   ],
   "source": [
    "# preview & compare\n",
    "print(X_train.head())\n",
    "print(bnrz_X_train.head())"
   ]
  },
  {
   "cell_type": "markdown",
   "metadata": {},
   "source": [
    "### Q1. Beta-binomial Naive Bayes\n",
    "Fit a Beta-Binomial naive Bayes classifier on the binarized data from the Data Processing section.<br>\n",
    "Do not need to assume prior on class label (Use Maximum Likelihood). \n",
    "Assume a beta prior on the feature distribution B(a,a). Please refer to the PDF report for more information.\n",
    "The first portion contains workings to explain the class and functions combined later. You may jump to the [Actual Codes](#Actual-Codes) portion if you wish."
   ]
  },
  {
   "cell_type": "markdown",
   "metadata": {},
   "source": [
    "#### Exploratory"
   ]
  },
  {
   "cell_type": "code",
   "execution_count": 8,
   "metadata": {},
   "outputs": [
    {
     "name": "stdout",
     "output_type": "stream",
     "text": [
      "viewing col_ 0 by y:\n",
      "spam & x=1: 417\n",
      "spam & x=0: 773\n",
      "not spam & x=1: 268\n",
      "not spam & x=0: 1607\n"
     ]
    }
   ],
   "source": [
    "# testing out function to split values by class & binary feature\n",
    "# try for first column\n",
    "col_idx = 0\n",
    "print('viewing col_',col_idx,'by y:')\n",
    "print('spam & x=1:', bnrz_X_train.loc[(y_train[0]==1) & (bnrz_X_train[col_idx]==1),col_idx].count())\n",
    "print('spam & x=0:', bnrz_X_train.loc[(y_train[0]==1) & (bnrz_X_train[col_idx]==0),col_idx].count())\n",
    "print('not spam & x=1:', bnrz_X_train.loc[(y_train[0]==0) & (bnrz_X_train[col_idx]==1),col_idx].count())\n",
    "print('not spam & x=0:', bnrz_X_train.loc[(y_train[0]==0) & (bnrz_X_train[col_idx]==0),col_idx].count())\n",
    "# check values tally to total\n",
    "assert \\\n",
    "    bnrz_X_train.loc[(y_train[0]==1) & (bnrz_X_train[col_idx]==1),col_idx].count() \\\n",
    "    + bnrz_X_train.loc[(y_train[0]==1) & (bnrz_X_train[col_idx]==0),col_idx].count() \\\n",
    "    + bnrz_X_train.loc[(y_train[0]==0) & (bnrz_X_train[col_idx]==1),col_idx].count() \\\n",
    "    + bnrz_X_train.loc[(y_train[0]==0) & (bnrz_X_train[col_idx]==0),col_idx].count() \\\n",
    "    == len(bnrz_X_train)"
   ]
  },
  {
   "cell_type": "code",
   "execution_count": 9,
   "metadata": {},
   "outputs": [
    {
     "name": "stdout",
     "output_type": "stream",
     "text": [
      "0.37194244604316545\n"
     ]
    }
   ],
   "source": [
    "# create beta function\n",
    "def calculate_beta_pdf(a,b,pos,neg):\n",
    "    \"\"\"\n",
    "    Calculates the pdf of Beta(a,b) distribution\n",
    "    a : alpha parameter\n",
    "    b : beta parameter\n",
    "    pos : number of positive instances\n",
    "    neg: number of negative instances\n",
    "    \"\"\"\n",
    "    return (pos+a)/(pos+neg+a+b)\n",
    "\n",
    "# try function on first column x SPAM\n",
    "set_a = 100\n",
    "print(\n",
    "    calculate_beta_pdf(\n",
    "        a=set_a,\n",
    "        b=set_a, \n",
    "        pos=bnrz_X_train.loc[(y_train[0]==1) & (bnrz_X_train[col_idx]==1),col_idx].count(),\n",
    "        neg=bnrz_X_train.loc[(y_train[0]==1) & (bnrz_X_train[col_idx]==0),col_idx].count()\n",
    "    )\n",
    ")"
   ]
  },
  {
   "cell_type": "code",
   "execution_count": 10,
   "metadata": {},
   "outputs": [
    {
     "name": "stdout",
     "output_type": "stream",
     "text": [
      "(0.37194244604316545, 0.6280575539568345)\n"
     ]
    }
   ],
   "source": [
    "def calculate_beta_pdf_per_feature(x_df, y_df, col_idx, y_class):\n",
    "    x_pos = calculate_beta_pdf(\n",
    "        a=set_a,\n",
    "        b=set_a, \n",
    "        pos=x_df.loc[(y_df[0]==y_class) & (x_df[col_idx]==1),col_idx].count(),\n",
    "        neg=x_df.loc[(y_df[0]==y_class) & (x_df[col_idx]==0),col_idx].count()\n",
    "    )\n",
    "    x_neg = 1-x_pos\n",
    "    return x_pos, x_neg\n",
    "\n",
    "# try function on first column x SPAM\n",
    "print(\n",
    "    calculate_beta_pdf_per_feature(\n",
    "        x_df=bnrz_X_train, \n",
    "        y_df=y_train,\n",
    "        col_idx=0,\n",
    "        y_class=1\n",
    "    )\n",
    ")"
   ]
  },
  {
   "cell_type": "code",
   "execution_count": 11,
   "metadata": {},
   "outputs": [
    {
     "data": {
      "text/html": [
       "<div>\n",
       "<style scoped>\n",
       "    .dataframe tbody tr th:only-of-type {\n",
       "        vertical-align: middle;\n",
       "    }\n",
       "\n",
       "    .dataframe tbody tr th {\n",
       "        vertical-align: top;\n",
       "    }\n",
       "\n",
       "    .dataframe thead th {\n",
       "        text-align: right;\n",
       "    }\n",
       "</style>\n",
       "<table border=\"1\" class=\"dataframe\">\n",
       "  <thead>\n",
       "    <tr style=\"text-align: right;\">\n",
       "      <th></th>\n",
       "      <th>0</th>\n",
       "      <th>1</th>\n",
       "      <th>2</th>\n",
       "      <th>3</th>\n",
       "      <th>4</th>\n",
       "      <th>5</th>\n",
       "      <th>6</th>\n",
       "      <th>7</th>\n",
       "      <th>8</th>\n",
       "      <th>9</th>\n",
       "      <th>...</th>\n",
       "      <th>47</th>\n",
       "      <th>48</th>\n",
       "      <th>49</th>\n",
       "      <th>50</th>\n",
       "      <th>51</th>\n",
       "      <th>52</th>\n",
       "      <th>53</th>\n",
       "      <th>54</th>\n",
       "      <th>55</th>\n",
       "      <th>56</th>\n",
       "    </tr>\n",
       "  </thead>\n",
       "  <tbody>\n",
       "    <tr>\n",
       "      <th>1</th>\n",
       "      <td>0.371942</td>\n",
       "      <td>0.360432</td>\n",
       "      <td>0.595683</td>\n",
       "      <td>0.08777</td>\n",
       "      <td>0.610072</td>\n",
       "      <td>0.388489</td>\n",
       "      <td>0.438129</td>\n",
       "      <td>0.353957</td>\n",
       "      <td>0.328777</td>\n",
       "      <td>0.457554</td>\n",
       "      <td>...</td>\n",
       "      <td>0.079856</td>\n",
       "      <td>0.197122</td>\n",
       "      <td>0.627338</td>\n",
       "      <td>0.135252</td>\n",
       "      <td>0.78777</td>\n",
       "      <td>0.593525</td>\n",
       "      <td>0.326619</td>\n",
       "      <td>0.928058</td>\n",
       "      <td>0.928058</td>\n",
       "      <td>0.928058</td>\n",
       "    </tr>\n",
       "    <tr>\n",
       "      <th>0</th>\n",
       "      <td>0.628058</td>\n",
       "      <td>0.639568</td>\n",
       "      <td>0.404317</td>\n",
       "      <td>0.91223</td>\n",
       "      <td>0.389928</td>\n",
       "      <td>0.611511</td>\n",
       "      <td>0.561871</td>\n",
       "      <td>0.646043</td>\n",
       "      <td>0.671223</td>\n",
       "      <td>0.542446</td>\n",
       "      <td>...</td>\n",
       "      <td>0.920144</td>\n",
       "      <td>0.802878</td>\n",
       "      <td>0.372662</td>\n",
       "      <td>0.864748</td>\n",
       "      <td>0.21223</td>\n",
       "      <td>0.406475</td>\n",
       "      <td>0.673381</td>\n",
       "      <td>0.071942</td>\n",
       "      <td>0.071942</td>\n",
       "      <td>0.071942</td>\n",
       "    </tr>\n",
       "  </tbody>\n",
       "</table>\n",
       "<p>2 rows × 57 columns</p>\n",
       "</div>"
      ],
      "text/plain": [
       "         0         1         2        3         4         5         6   \\\n",
       "1  0.371942  0.360432  0.595683  0.08777  0.610072  0.388489  0.438129   \n",
       "0  0.628058  0.639568  0.404317  0.91223  0.389928  0.611511  0.561871   \n",
       "\n",
       "         7         8         9   ...        47        48        49        50  \\\n",
       "1  0.353957  0.328777  0.457554  ...  0.079856  0.197122  0.627338  0.135252   \n",
       "0  0.646043  0.671223  0.542446  ...  0.920144  0.802878  0.372662  0.864748   \n",
       "\n",
       "        51        52        53        54        55        56  \n",
       "1  0.78777  0.593525  0.326619  0.928058  0.928058  0.928058  \n",
       "0  0.21223  0.406475  0.673381  0.071942  0.071942  0.071942  \n",
       "\n",
       "[2 rows x 57 columns]"
      ]
     },
     "execution_count": 11,
     "metadata": {},
     "output_type": "execute_result"
    }
   ],
   "source": [
    "def create_cls_data_from_train(x_train, y_train, y_class):\n",
    "    cls_data = pd.DataFrame()\n",
    "\n",
    "    for col_idx in range(0, x_train.shape[1]):\n",
    "        cls_data[col_idx] = list(calculate_beta_pdf_per_feature(\n",
    "            x_df=x_train, y_df=y_train, col_idx=col_idx, y_class=y_class\n",
    "        ))\n",
    "\n",
    "    cls_data.index = [1,0]\n",
    "\n",
    "    return cls_data\n",
    "\n",
    "# preview & check\n",
    "create_cls_data_from_train(bnrz_X_train, y_train, 1)"
   ]
  },
  {
   "cell_type": "code",
   "execution_count": 12,
   "metadata": {
    "scrolled": true
   },
   "outputs": [
    {
     "name": "stdout",
     "output_type": "stream",
     "text": [
      "[0, 0, 0, 0, 0, 1, 0, 1, 1]\n",
      "14.583333333333334\n"
     ]
    }
   ],
   "source": [
    "pos_cls_data = create_cls_data_from_train(bnrz_X_train, y_train, 1)\n",
    "pos_class_mle = y_train.sum()/len(y_train)\n",
    "pos_prob = []\n",
    "\n",
    "neg_cls_data = create_cls_data_from_train(bnrz_X_train, y_train, 0)\n",
    "neg_class_mle = 1-pos_class_mle\n",
    "neg_prob = []\n",
    "\n",
    "pred = []\n",
    "\n",
    "# loop through each row\n",
    "for row_idx in range(0, bnrz_X_test.shape[0]):\n",
    "    \n",
    "    row = bnrz_X_test.loc[row_idx,:]\n",
    "    pos_p = pos_class_mle[0]\n",
    "    neg_p = neg_class_mle[0]\n",
    "    \n",
    "    # loop through each feature\n",
    "    for col_idx in range(0, bnrz_X_test.shape[1]):\n",
    "        x_val = row[col_idx]\n",
    "        # prob y is spam\n",
    "        pos_p *= pos_cls_data.loc[x_val, col_idx]\n",
    "        # prob y is not spam\n",
    "        neg_p *= neg_cls_data.loc[x_val, col_idx]\n",
    "        \n",
    "#     print('pos_p', pos_p)\n",
    "#     print('neg_p', neg_p)\n",
    "    \n",
    "    # append prediction\n",
    "    if pos_p > neg_p:\n",
    "        pred.append(1)\n",
    "    else:\n",
    "        pred.append(0)\n",
    "    \n",
    "    # optional storing of probabilites\n",
    "    pos_prob.append(pos_p)\n",
    "    neg_prob.append(neg_p)\n",
    "\n",
    "def calculate_error(pred, actual):\n",
    "    return (sum([1 if int(p)!=int(a) else 0 for p,a in zip(pred,actual)])/len(pred))*100\n",
    "\n",
    "print(pred[1:10])\n",
    "print(calculate_error(pred, y_test[0]))"
   ]
  },
  {
   "cell_type": "markdown",
   "metadata": {},
   "source": [
    "#### Actual Codes"
   ]
  },
  {
   "cell_type": "code",
   "execution_count": 13,
   "metadata": {},
   "outputs": [],
   "source": [
    "class BetaBinomialClassifier():\n",
    "\n",
    "    def __init__(self, a, b, x_1, y_1, x_2, y_2):\n",
    "        \"\"\"        \n",
    "        a : int \n",
    "            alpha parameter\n",
    "        b : int \n",
    "            beta parameter\n",
    "        x_1: pandas DataFrame\n",
    "            train features\n",
    "        y_1: pandas DataFrame\n",
    "            train target values\n",
    "        x_2: pandas DataFrame\n",
    "            test features\n",
    "        y_2: pandas DataFrame\n",
    "            test target values\n",
    "        \"\"\"\n",
    "        self.a = a\n",
    "        self.b = b\n",
    "        self.bnrz_X_train = x_1\n",
    "        self.y_train = y_1\n",
    "        self.bnrz_X_test = x_2\n",
    "        self.y_test = y_2\n",
    "        \n",
    "    # functions\n",
    "    def calculate_beta_pdf(self, pos,neg):\n",
    "        \"\"\"\n",
    "        Calculates the pdf of Beta(a,b) distribution\n",
    "        pos : number of positive instances\n",
    "        neg: number of negative instances\n",
    "        \"\"\"\n",
    "        return (pos+self.a)/(pos+neg+self.a+self.b)\n",
    "\n",
    "    def calculate_error(self, pred, actual):\n",
    "        \"\"\"\n",
    "        Calculate percentage of wrong classification\n",
    "        \"\"\"\n",
    "        return (sum([1 if int(p)!=int(a) else 0 for p,a in zip(pred,actual)])/len(pred))*100\n",
    "    \n",
    "    # steps\n",
    "    def calculate_beta_pdf_per_feature(self, x_df, y_df, col_idx, y_class):\n",
    "        \"\"\"\n",
    "        Calculate one feature value per y_class\n",
    "        \"\"\"\n",
    "        x_pos = self.calculate_beta_pdf(\n",
    "            pos=x_df.loc[(y_df[0]==y_class) & (x_df[col_idx]==1),col_idx].count(),\n",
    "            neg=x_df.loc[(y_df[0]==y_class) & (x_df[col_idx]==0),col_idx].count()\n",
    "        )\n",
    "        x_neg = 1-x_pos\n",
    "        return x_pos, x_neg\n",
    "    \n",
    "    def create_cls_data_from_train(self, x_train, y_train, y_class):\n",
    "        \"\"\"\n",
    "        Calculate all feature values based on train data per y_class\n",
    "        and store into dataframe\n",
    "        \"\"\"\n",
    "        cls_data = pd.DataFrame()\n",
    "\n",
    "        for col_idx in range(0, x_train.shape[1]):\n",
    "            cls_data[col_idx] = list(self.calculate_beta_pdf_per_feature(\n",
    "                x_df=x_train, y_df=y_train, col_idx=col_idx, y_class=y_class\n",
    "            ))\n",
    "\n",
    "        cls_data.index = [1,0]\n",
    "\n",
    "        return cls_data\n",
    "    \n",
    "    def predict(self, x_to_pred, pos_cls_data, neg_cls_data, pos_class_mle, neg_class_mle):\n",
    "        \"\"\"\n",
    "        Predict on new data based on calculate feature information by class\n",
    "        \"\"\"\n",
    "\n",
    "        pred = []\n",
    "\n",
    "        # loop through each row\n",
    "        for row_idx in range(0, x_to_pred.shape[0]):\n",
    "\n",
    "            row = x_to_pred.loc[row_idx,:]\n",
    "            pos_p = pos_class_mle[0]\n",
    "            neg_p = neg_class_mle[0]\n",
    "\n",
    "            # loop through each feature\n",
    "            for col_idx in range(0, x_to_pred.shape[1]):\n",
    "                x_val = row[col_idx]\n",
    "                pos_p *= pos_cls_data.loc[x_val, col_idx]\n",
    "                neg_p *= neg_cls_data.loc[x_val, col_idx]\n",
    "\n",
    "            # append prediction\n",
    "            if pos_p > neg_p:\n",
    "                pred.append(1)\n",
    "            else:\n",
    "                pred.append(0)\n",
    "            \n",
    "        return pred\n",
    "        \n",
    "    def run(self):\n",
    "        \"\"\"\n",
    "        Run pipeline\n",
    "        \"\"\"\n",
    "        # class mle\n",
    "        pos_class_mle = self.y_train.sum()/len(self.y_train)\n",
    "        neg_class_mle = 1-pos_class_mle\n",
    "        # feature calculations\n",
    "        pos_cls_data = self.create_cls_data_from_train(self.bnrz_X_train, self.y_train, 1)\n",
    "        neg_cls_data = self.create_cls_data_from_train(self.bnrz_X_train, self.y_train, 0)\n",
    "        # get predictions\n",
    "        train_pred = self.predict(self.bnrz_X_train, pos_cls_data, neg_cls_data, pos_class_mle, neg_class_mle)\n",
    "        test_pred = self.predict(self.bnrz_X_test, pos_cls_data, neg_cls_data, pos_class_mle, neg_class_mle)\n",
    "        # score and return results\n",
    "        return self.calculate_error(train_pred, self.y_train[0]), \\\n",
    "               self.calculate_error(test_pred, self.y_test[0])"
   ]
  },
  {
   "cell_type": "code",
   "execution_count": 14,
   "metadata": {},
   "outputs": [
    {
     "data": {
      "text/plain": [
       "(13.605220228384992, 14.583333333333334)"
      ]
     },
     "execution_count": 14,
     "metadata": {},
     "output_type": "execute_result"
    }
   ],
   "source": [
    "# trial on one round\n",
    "set_a = 100\n",
    "bbc = BetaBinomialClassifier(set_a, set_a, bnrz_X_train, y_train, bnrz_X_test, y_test)\n",
    "bbc.run()"
   ]
  },
  {
   "cell_type": "markdown",
   "metadata": {},
   "source": [
    "#### Q1 (a) \n",
    "##### Plot errors across alpha = {0, 0.5, 1, 1.5, 2, · · · , 100}"
   ]
  },
  {
   "cell_type": "code",
   "execution_count": 15,
   "metadata": {
    "scrolled": true
   },
   "outputs": [
    {
     "data": {
      "image/png": "[encoded data removed]",
      "text/plain": [
       "<Figure size 432x288 with 1 Axes>"
      ]
     },
     "metadata": {
      "needs_background": "light"
     },
     "output_type": "display_data"
    }
   ],
   "source": [
    "# initialise empty list for storage\n",
    "list_of_alphas = list(np.arange(0, 100.5, 0.5))\n",
    "train_error_list = []\n",
    "test_error_list = []\n",
    "\n",
    "# loop over alpha values\n",
    "for set_a in list_of_alphas:\n",
    "    bbc = BetaBinomialClassifier(set_a, set_a, bnrz_X_train, y_train, bnrz_X_test, y_test)\n",
    "    train_error, test_error = bbc.run()\n",
    "    train_error_list.append(train_error)\n",
    "    test_error_list.append(test_error)\n",
    "    \n",
    "# plot chart\n",
    "plt.plot(list_of_alphas, train_error_list, label='Train Error')\n",
    "plt.plot(list_of_alphas, test_error_list, label='Test Error')\n",
    "plt.ylabel('Error Rate %')\n",
    "plt.xlabel('Alpha Value')\n",
    "plt.title('Training and Testing Data Error Rates vs Alpha Values')\n",
    "plt.legend()\n",
    "plt.show()"
   ]
  },
  {
   "cell_type": "code",
   "execution_count": 16,
   "metadata": {},
   "outputs": [
    {
     "name": "stdout",
     "output_type": "stream",
     "text": [
      "[10.962479608482871, 10.962479608482871, 10.962479608482871, 10.962479608482871, 10.99510603588907, 10.99510603588907, 11.092985318107667, 11.092985318107667, 11.190864600326265, 11.223491027732463, 11.288743882544862, 11.419249592169658, 11.451876019575856, 11.451876019575856, 11.484502446982056, 11.484502446982056, 11.549755301794454, 11.549755301794454, 11.549755301794454, 11.582381729200652, 11.582381729200652, 11.582381729200652, 11.582381729200652, 11.64763458401305, 11.64763458401305, 11.615008156606851, 11.615008156606851, 11.615008156606851, 11.64763458401305, 11.68026101141925, 11.778140293637847, 11.778140293637847, 11.778140293637847, 11.778140293637847, 11.810766721044045, 11.810766721044045, 11.810766721044045, 11.876019575856443, 11.843393148450245, 11.843393148450245, 11.843393148450245, 11.908646003262643, 12.00652528548124, 12.00652528548124, 12.00652528548124, 12.00652528548124, 12.00652528548124, 12.039151712887438, 12.039151712887438, 12.071778140293638, 12.071778140293638, 12.104404567699836, 12.137030995106036, 12.137030995106036, 12.202283849918434, 12.202283849918434, 12.202283849918434, 12.202283849918434, 12.202283849918434, 12.267536704730832, 12.234910277324634, 12.234910277324634, 12.234910277324634, 12.234910277324634, 12.234910277324634, 12.234910277324634, 12.267536704730832, 12.267536704730832, 12.267536704730832, 12.267536704730832, 12.267536704730832, 12.267536704730832, 12.30016313213703, 12.30016313213703, 12.36541598694943, 12.36541598694943, 12.36541598694943, 12.36541598694943, 12.39804241435563, 12.430668841761827, 12.463295269168025, 12.463295269168025, 12.463295269168025, 12.495921696574225, 12.495921696574225, 12.495921696574225, 12.495921696574225, 12.495921696574225, 12.495921696574225, 12.495921696574225, 12.528548123980423, 12.528548123980423, 12.528548123980423, 12.528548123980423, 12.561174551386623, 12.561174551386623, 12.561174551386623, 12.62642740619902, 12.69168026101142, 12.69168026101142, 12.69168026101142, 12.69168026101142, 12.69168026101142, 12.72430668841762, 12.72430668841762, 12.72430668841762, 12.72430668841762, 12.756933115823818, 12.756933115823818, 12.756933115823818, 12.72430668841762, 12.789559543230016, 12.854812398042414, 12.854812398042414, 12.854812398042414, 12.887438825448614, 12.887438825448614, 12.952691680261012, 12.952691680261012, 12.952691680261012, 12.98531810766721, 12.98531810766721, 12.98531810766721, 12.98531810766721, 12.98531810766721, 12.98531810766721, 13.017944535073408, 13.017944535073408, 13.050570962479608, 13.050570962479608, 13.050570962479608, 13.050570962479608, 13.050570962479608, 13.050570962479608, 13.050570962479608, 13.050570962479608, 13.083197389885806, 13.083197389885806, 13.083197389885806, 13.083197389885806, 13.083197389885806, 13.083197389885806, 13.083197389885806, 13.083197389885806, 13.115823817292007, 13.115823817292007, 13.115823817292007, 13.115823817292007, 13.115823817292007, 13.115823817292007, 13.148450244698207, 13.213703099510605, 13.213703099510605, 13.213703099510605, 13.181076672104405, 13.181076672104405, 13.181076672104405, 13.181076672104405, 13.213703099510605, 13.213703099510605, 13.213703099510605, 13.213703099510605, 13.474714518760194, 13.507340946166394, 13.539967373572596, 13.507340946166394, 13.507340946166394, 13.605220228384992, 13.605220228384992, 13.605220228384992, 13.605220228384992, 13.605220228384992, 13.605220228384992, 13.605220228384992, 13.605220228384992, 13.605220228384992, 13.605220228384992, 13.67047308319739, 13.67047308319739, 13.67047308319739, 13.67047308319739, 13.67047308319739, 13.67047308319739, 13.67047308319739, 13.67047308319739, 13.67047308319739, 13.67047308319739, 13.605220228384992, 13.605220228384992, 13.605220228384992, 13.572593800978794, 13.572593800978794, 13.572593800978794, 13.572593800978794, 13.572593800978794, 13.572593800978794, 13.572593800978794, 13.572593800978794, 13.572593800978794, 13.605220228384992, 13.605220228384992]\n",
      "[11.393229166666668, 11.393229166666668, 11.393229166666668, 11.5234375, 11.653645833333332, 11.653645833333332, 11.783854166666668, 11.783854166666668, 11.848958333333332, 11.9140625, 11.9140625, 11.979166666666668, 12.174479166666668, 12.239583333333332, 12.239583333333332, 12.369791666666668, 12.369791666666668, 12.434895833333332, 12.434895833333332, 12.434895833333332, 12.434895833333332, 12.434895833333332, 12.3046875, 12.369791666666668, 12.434895833333332, 12.434895833333332, 12.434895833333332, 12.434895833333332, 12.434895833333332, 12.434895833333332, 12.5, 12.5, 12.5, 12.5, 12.5, 12.565104166666666, 12.630208333333334, 12.630208333333334, 12.6953125, 12.6953125, 12.760416666666666, 12.760416666666666, 12.825520833333334, 12.890625, 12.890625, 12.955729166666666, 12.955729166666666, 12.760416666666666, 12.760416666666666, 12.760416666666666, 12.760416666666666, 12.825520833333334, 12.825520833333334, 12.825520833333334, 12.890625, 12.890625, 12.825520833333334, 12.825520833333334, 12.825520833333334, 12.825520833333334, 12.825520833333334, 12.890625, 12.890625, 12.955729166666666, 12.890625, 12.890625, 12.890625, 12.955729166666666, 12.955729166666666, 12.955729166666666, 13.020833333333334, 13.020833333333334, 13.020833333333334, 13.020833333333334, 13.0859375, 13.0859375, 13.0859375, 13.0859375, 13.0859375, 13.0859375, 13.151041666666666, 13.151041666666666, 13.0859375, 13.0859375, 13.151041666666666, 13.151041666666666, 13.151041666666666, 13.151041666666666, 13.151041666666666, 13.151041666666666, 13.151041666666666, 13.151041666666666, 13.151041666666666, 13.151041666666666, 13.151041666666666, 13.151041666666666, 13.28125, 13.28125, 13.346354166666666, 13.346354166666666, 13.346354166666666, 13.346354166666666, 13.346354166666666, 13.346354166666666, 13.346354166666666, 13.346354166666666, 13.346354166666666, 13.411458333333334, 13.411458333333334, 13.411458333333334, 13.411458333333334, 13.4765625, 13.4765625, 13.4765625, 13.4765625, 13.4765625, 13.4765625, 13.541666666666666, 13.541666666666666, 13.4765625, 13.541666666666666, 13.541666666666666, 13.4765625, 13.541666666666666, 13.541666666666666, 13.541666666666666, 13.606770833333334, 13.606770833333334, 13.671875, 13.671875, 13.671875, 13.671875, 13.736979166666666, 13.736979166666666, 13.736979166666666, 13.736979166666666, 13.736979166666666, 13.736979166666666, 13.736979166666666, 13.736979166666666, 13.736979166666666, 13.736979166666666, 13.736979166666666, 13.802083333333334, 13.802083333333334, 13.802083333333334, 13.802083333333334, 13.802083333333334, 13.802083333333334, 13.802083333333334, 13.802083333333334, 13.802083333333334, 13.802083333333334, 13.802083333333334, 13.802083333333334, 13.802083333333334, 13.802083333333334, 13.8671875, 13.8671875, 13.8671875, 13.8671875, 13.8671875, 14.322916666666666, 14.322916666666666, 14.322916666666666, 14.322916666666666, 14.322916666666666, 14.388020833333334, 14.388020833333334, 14.388020833333334, 14.388020833333334, 14.388020833333334, 14.388020833333334, 14.453125, 14.453125, 14.453125, 14.453125, 14.518229166666666, 14.583333333333334, 14.583333333333334, 14.583333333333334, 14.583333333333334, 14.583333333333334, 14.6484375, 14.6484375, 14.6484375, 14.6484375, 14.583333333333334, 14.583333333333334, 14.583333333333334, 14.583333333333334, 14.583333333333334, 14.518229166666666, 14.518229166666666, 14.518229166666666, 14.453125, 14.453125, 14.518229166666666, 14.518229166666666, 14.583333333333334, 14.583333333333334]\n"
     ]
    }
   ],
   "source": [
    "print(train_error_list)\n",
    "print(test_error_list)"
   ]
  },
  {
   "cell_type": "markdown",
   "metadata": {},
   "source": [
    "#### Q1 (b) \n",
    "##### What do you observe about the training and test errors as alpha changes?\n",
    "Referring to the plot above, in general, the errors for both train and test increase as alpha increases. Specifically, both error rates increase steeply from alpha=1 to alpha=7 and face a sharp jump when alpha changes from 81 to 82.<br>\n",
    "For every value of alpha, the test error rates are always higher than the train error rates. The gap between train and test error is narrower when alpha is smaller than around 8, and widest when alpha is around 93."
   ]
  },
  {
   "cell_type": "markdown",
   "metadata": {},
   "source": [
    "#### Q1 (c)\n",
    "##### Training and testing error rates for alpha = 1, 10 and 100."
   ]
  },
  {
   "cell_type": "code",
   "execution_count": 17,
   "metadata": {},
   "outputs": [
    {
     "name": "stdout",
     "output_type": "stream",
     "text": [
      "The training error for alpha=1.0 is:  10.962479608482871%\n",
      "The testing error for alpha=1.0 is:  11.393229166666668%\n",
      "The training error for alpha=10.0 is:  11.582381729200652%\n",
      "The testing error for alpha=10.0 is:  12.434895833333332%\n",
      "The training error for alpha=100.0 is:  13.605220228384992%\n",
      "The testing error for alpha=100.0 is:  14.583333333333334%\n"
     ]
    }
   ],
   "source": [
    "for val in [1,10,100]:\n",
    "    idx = list_of_alphas.index(val)\n",
    "    print('The training error for alpha='+str(list_of_alphas[idx])+' is: ', str(train_error_list[idx])+'%')\n",
    "    print('The testing error for alpha='+str(list_of_alphas[idx])+' is: ', str(test_error_list[idx])+'%')"
   ]
  },
  {
   "cell_type": "markdown",
   "metadata": {},
   "source": [
    "### Q2. Gaussian Naive Bayes\n",
    "Fit a Gaussian naive Bayes classifier on the log-transformed data from the Data Processing section. Class label prior is estimated using ML as per before. \n",
    "Use maximum likelihood to estimate the class conditional mean and variance of each feature and use ML estimates as a plug-in estimator for testing"
   ]
  },
  {
   "cell_type": "code",
   "execution_count": 18,
   "metadata": {},
   "outputs": [],
   "source": [
    "class GaussianClassifier():\n",
    "\n",
    "    def __init__(self, x_1, y_1, x_2, y_2):\n",
    "        \"\"\"        \n",
    "        x_1: pandas DataFrame\n",
    "            train features\n",
    "        y_1: pandas DataFrame\n",
    "            train target values\n",
    "        x_2: pandas DataFrame\n",
    "            test features\n",
    "        y_2: pandas DataFrame\n",
    "            test target values\n",
    "        \"\"\"\n",
    "        self.log_X_train = x_1\n",
    "        self.y_train = y_1\n",
    "        self.log_X_test = x_2\n",
    "        self.y_test = y_2\n",
    "        \n",
    "    # functions\n",
    "    \n",
    "    def calculate_mean(self, vector):\n",
    "        \"\"\"\n",
    "        ML estimation of mean\n",
    "        \"\"\"\n",
    "        return sum(vector)/len(vector)\n",
    "    \n",
    "    def calculate_variance(self, vector, mean):\n",
    "        \"\"\"\n",
    "        ML estimation of variance\n",
    "        \"\"\"\n",
    "        return sum([(i-mean)*(i-mean) for i in vector])/len(vector)\n",
    "    \n",
    "    def calculate_gaussian_pdf(self, x, mean, sig2):\n",
    "        \"\"\"\n",
    "        Calculates the pdf of Normal(mean,sig2) distribution\n",
    "        x: actual observation value\n",
    "        mean: mean of observations\n",
    "        sig2: variance of observations\n",
    "        \"\"\"\n",
    "        return (1/((2*np.pi*(sig2))**0.5))*np.exp((-0.5 * ((x - mean)*(x - mean)))/(sig2))\n",
    "\n",
    "    def calculate_error(self, pred, actual):\n",
    "        \"\"\"\n",
    "        Calculate percentage of wrong classification\n",
    "        \"\"\"\n",
    "        return (sum([1 if int(p)!=int(a) else 0 for p,a in zip(pred,actual)])/len(pred))*100\n",
    "    \n",
    "    # steps\n",
    "    def create_cls_data_from_train(self, x_train, y_train):\n",
    "        \"\"\"\n",
    "        Calculate feature values based on train data\n",
    "        and store into separate lists\n",
    "        \"\"\"\n",
    "        pos_mean_list = []\n",
    "        pos_var_list = []\n",
    "        neg_mean_list = []\n",
    "        neg_var_list = []\n",
    "\n",
    "        for col_idx in range(0, x_train.shape[1]):\n",
    "            pos_mean = self.calculate_mean(x_train.loc[y_train[0]==1, col_idx])\n",
    "            pos_var = self.calculate_variance(x_train.loc[y_train[0]==1, col_idx], pos_mean)\n",
    "            neg_mean = self.calculate_mean(x_train.loc[y_train[0]==0, col_idx])\n",
    "            neg_var = self.calculate_variance(x_train.loc[y_train[0]==0, col_idx], neg_mean)\n",
    "            pos_mean_list.append(pos_mean)\n",
    "            pos_var_list.append(pos_var)\n",
    "            neg_mean_list.append(neg_mean)\n",
    "            neg_var_list.append(neg_var)\n",
    "            \n",
    "        return pos_mean_list, pos_var_list, neg_mean_list, neg_var_list\n",
    "    \n",
    "    def predict(self, x_to_pred, \n",
    "                pos_mean_list, pos_var_list, \n",
    "                neg_mean_list, neg_var_list, \n",
    "                pos_class_mle, neg_class_mle\n",
    "               ):\n",
    "        \"\"\"\n",
    "        Predict on new data based on calculate feature information by class\n",
    "        \"\"\"\n",
    "\n",
    "        pred = []\n",
    "\n",
    "        # loop through each row\n",
    "        for row_idx in range(0, x_to_pred.shape[0]):\n",
    "\n",
    "            row = x_to_pred.loc[row_idx,:]\n",
    "            pos_p = np.log(pos_class_mle[0])\n",
    "            neg_p = np.log(neg_class_mle[0])\n",
    "\n",
    "            # loop through each feature\n",
    "            for col_idx in range(0, x_to_pred.shape[1]):\n",
    "                x_val = row[col_idx]\n",
    "                pos_p += np.log(self.calculate_gaussian_pdf(x_val, pos_mean_list[col_idx], pos_var_list[col_idx]))\n",
    "                neg_p += np.log(self.calculate_gaussian_pdf(x_val, neg_mean_list[col_idx], neg_var_list[col_idx]))\n",
    "\n",
    "            # append prediction\n",
    "            if pos_p > neg_p:\n",
    "                pred.append(1)\n",
    "            else:\n",
    "                pred.append(0)\n",
    "            \n",
    "        return pred\n",
    "        \n",
    "    def run(self):\n",
    "        \"\"\"\n",
    "        Run pipeline\n",
    "        \"\"\"\n",
    "        # class mle\n",
    "        pos_class_mle = self.y_train.sum()/len(self.y_train)\n",
    "        neg_class_mle = 1-pos_class_mle\n",
    "        # feature calculations\n",
    "        pos_mean_list, pos_var_list, neg_mean_list, neg_var_list = self.create_cls_data_from_train(self.log_X_train, self.y_train)\n",
    "        # get predictions\n",
    "        train_pred = self.predict(self.log_X_train, pos_mean_list, pos_var_list, neg_mean_list, neg_var_list, pos_class_mle, neg_class_mle)\n",
    "        test_pred = self.predict(self.log_X_test, pos_mean_list, pos_var_list, neg_mean_list, neg_var_list, pos_class_mle, neg_class_mle)\n",
    "        # score and return results\n",
    "        return self.calculate_error(train_pred, self.y_train[0]), \\\n",
    "               self.calculate_error(test_pred, self.y_test[0])"
   ]
  },
  {
   "cell_type": "markdown",
   "metadata": {},
   "source": [
    "#### Q2 (a)\n",
    "##### Training and testing error rates for the log-transformed data:"
   ]
  },
  {
   "cell_type": "code",
   "execution_count": 19,
   "metadata": {},
   "outputs": [
    {
     "name": "stderr",
     "output_type": "stream",
     "text": [
      "C:\\Users\\effbl\\anaconda3\\envs\\ee5907_ca1\\lib\\site-packages\\ipykernel_launcher.py:92: RuntimeWarning: divide by zero encountered in log\n",
      "C:\\Users\\effbl\\anaconda3\\envs\\ee5907_ca1\\lib\\site-packages\\ipykernel_launcher.py:93: RuntimeWarning: divide by zero encountered in log\n"
     ]
    },
    {
     "data": {
      "text/plain": [
       "(16.6721044045677, 18.359375)"
      ]
     },
     "execution_count": 19,
     "metadata": {},
     "output_type": "execute_result"
    }
   ],
   "source": [
    "# trial on one round\n",
    "gsc = GaussianClassifier(log_X_train, y_train, log_X_test, y_test)\n",
    "gsc.run()"
   ]
  },
  {
   "cell_type": "markdown",
   "metadata": {},
   "source": [
    "### Q3. Logistic Regression\n",
    "For the log-transformed data, fit a logistic regression model with l2 regularization\n",
    "For each regularization parameter value, fit the logistic regression model on the training\n",
    "data and compute its error rate"
   ]
  },
  {
   "cell_type": "code",
   "execution_count": 20,
   "metadata": {},
   "outputs": [],
   "source": [
    "class LogisticRegression():\n",
    "    \n",
    "    def __init__(self, lmd, ms, sc, x_1, y_1, x_2, y_2):\n",
    "        \"\"\"    \n",
    "        lmd: int\n",
    "            lambda parameter\n",
    "        ms: int\n",
    "            max number of steps\n",
    "        sc: int\n",
    "            stopping criteria\n",
    "        x_1: pandas DataFrame\n",
    "            train features\n",
    "        y_1: pandas DataFrame\n",
    "            train target values\n",
    "        x_2: pandas DataFrame\n",
    "            test features\n",
    "        y_2: pandas DataFrame\n",
    "            test target values\n",
    "        \"\"\"\n",
    "        self.lmda = lmd\n",
    "        self.max_steps = ms\n",
    "        self.stopping = sc\n",
    "        self.log_X_train = x_1\n",
    "        self.y_train = y_1\n",
    "        self.log_X_test = x_2\n",
    "        self.y_test = y_2\n",
    "    \n",
    "    # functions\n",
    "    def calculate_logistic_pdf(self, x):\n",
    "        \"\"\"\n",
    "        Calculates the pdf of sigma(x) distribution\n",
    "        x: actual observation value\n",
    "        \"\"\"\n",
    "        return 1 / (1 + np.exp(-x))\n",
    "\n",
    "    def calculate_error(self, pred, actual):\n",
    "        \"\"\"\n",
    "        Calculate percentage of wrong classification\n",
    "        \"\"\"\n",
    "        return (sum([1 if int(p)!=int(a) else 0 for p,a in zip(pred,actual)])/len(pred))*100\n",
    "    \n",
    "    # steps\n",
    "    def find_w_from_train(self, x_train, y_train, lmd, max_steps=300, stopping=1e-12):\n",
    "        \"\"\"\n",
    "        Search for w that using Newton's Method and l2 regularisation\n",
    "        \"\"\"\n",
    "        # add first x term to be bias\n",
    "        # we now have N X (D+1) matrix\n",
    "        x_train['bias'] = 1\n",
    "        \n",
    "        # We convert pandas DataFrames into numpy arrays for easier matrix multiplication\n",
    "        X = x_train.values\n",
    "        X_t = np.transpose(X)\n",
    "        # y is N x 1 vector\n",
    "        y = y_train.values\n",
    "        \n",
    "        # initialise parameters\n",
    "        # w is a (D+1) X 1 vector\n",
    "        w = np.zeros((x_train.shape[1], 1))\n",
    "        w_t = np.transpose(w)\n",
    "        # store error rates into a list\n",
    "        error_rate_list = []\n",
    "        \n",
    "        # iterate until convergence\n",
    "        for step in range(0, max_steps):\n",
    "            \n",
    "            ##### calculate mu parameter which is Nx1 #####\n",
    "            mu = []\n",
    "            for row_idx in range(0, X.shape[0]):\n",
    "                # Dimension: (1 x (D+1)) x ((D+1) x 1) returns a scalar\n",
    "                row_mu = self.calculate_logistic_pdf(np.dot(w_t, X[row_idx]))\n",
    "                mu.append(row_mu)\n",
    "            # for consistency, store all lists as numpy arrays\n",
    "            mu = np.array(mu)\n",
    "\n",
    "            ##### calculate gradient matrix #####\n",
    "            # Dimension: ((D+1) x N) x (Nx1)\n",
    "            g = np.dot(X_t, (mu-y))\n",
    "            # format regularisation term without bias (vector with first term as 0)\n",
    "            regu_w = w.copy()\n",
    "            regu_w[0] = 0\n",
    "            # calculate regularised g\n",
    "            g_reg = g + lmd*regu_w\n",
    "            \n",
    "            ##### calculate hessian matrix #####\n",
    "            mu_diag = np.array([i*(1-i) for i in mu])\n",
    "            S = np.diag(mu_diag.flatten())\n",
    "            H = np.dot(np.dot(X_t, S), X)\n",
    "            # format regularisation term without bias (identity matrix with first,first term as 0)\n",
    "            regu_H = np.eye(X_train.shape[1]+1)\n",
    "            regu_H[0,0]=0\n",
    "            # calculate regularised H\n",
    "            H_reg = H + lmd*regu_H\n",
    "            \n",
    "            ##### solve for dk #####\n",
    "            # Dimension: ((D+1) X (D+1)) x ((D+1) X 1)\n",
    "            d = -np.dot(np.linalg.inv(H_reg), g_reg)\n",
    "            \n",
    "            ##### update parameter #####\n",
    "            # Include stopping criteria\n",
    "            # print('Round '+str(step)+': '+str(d))\n",
    "            if abs(np.mean(d)) < stopping:\n",
    "                break\n",
    "            else:\n",
    "                # Dimension: (D+1) X 1)\n",
    "                w += d\n",
    "            \n",
    "        return w\n",
    "\n",
    "    def predict(self, x_to_pred, w):\n",
    "        \"\"\"\n",
    "        Predict on new data based on calculate feature information by class\n",
    "        \"\"\"\n",
    "        # add bias term\n",
    "        x_to_pred['bias'] = 1\n",
    "        # format into numpy arrays for easier matrix multiplication\n",
    "        X = x_to_pred.values\n",
    "        # calculate coefficients\n",
    "        # Dimension: (N x (D+1)) x ((D+1) x 1) = N x 1\n",
    "        log_odds = np.dot(X,w)\n",
    "        pred = [1 if i>0 else 0 for i in log_odds]\n",
    "        \n",
    "        return pred\n",
    "    \n",
    "    def run(self):\n",
    "        \"\"\"\n",
    "        Run pipeline\n",
    "        \"\"\"\n",
    "        # create copies (bias not written into original dataframe)\n",
    "        x_train = self.log_X_train.copy()\n",
    "        x_test = self.log_X_test.copy()\n",
    "        # get w based on feature values\n",
    "        fitted_w = self.find_w_from_train(x_train, self.y_train, self.lmda, self.max_steps, self.stopping)\n",
    "        # get predictions\n",
    "        train_pred = self.predict(x_train, fitted_w)\n",
    "        test_pred = self.predict(x_test, fitted_w)\n",
    "        # score and return results\n",
    "        return self.calculate_error(train_pred, self.y_train[0]), \\\n",
    "               self.calculate_error(test_pred, self.y_test[0])"
   ]
  },
  {
   "cell_type": "code",
   "execution_count": 21,
   "metadata": {},
   "outputs": [
    {
     "data": {
      "text/plain": [
       "(5.220228384991843, 5.989583333333334)"
      ]
     },
     "execution_count": 21,
     "metadata": {},
     "output_type": "execute_result"
    }
   ],
   "source": [
    "# trial on one round\n",
    "lmda = 1\n",
    "max_steps = 100\n",
    "stopping = 1e-15\n",
    "lgr = LogisticRegression(lmda, max_steps, stopping, log_X_train, y_train, log_X_test, y_test)\n",
    "lgr.run()"
   ]
  },
  {
   "cell_type": "markdown",
   "metadata": {},
   "source": [
    "#### Q3 (a)\n",
    "##### Plot errors across lambda = {1, 2, · · · , 9, 10, 15, 20, · · · , 95, 100}"
   ]
  },
  {
   "cell_type": "code",
   "execution_count": 22,
   "metadata": {},
   "outputs": [
    {
     "data": {
      "image/png": "[encoded data removed]",
      "text/plain": [
       "<Figure size 432x288 with 1 Axes>"
      ]
     },
     "metadata": {
      "needs_background": "light"
     },
     "output_type": "display_data"
    }
   ],
   "source": [
    "# initialise empty list for storage\n",
    "list_of_lambdas = list(np.arange(1, 10, 1))\n",
    "list_of_lambdas.extend(list(np.arange(10, 105, 5)))\n",
    "max_steps = 100\n",
    "stopping = 1e-12\n",
    "train_error_list = []\n",
    "test_error_list = []\n",
    "\n",
    "# loop over lambda values\n",
    "for set_l in list_of_lambdas:\n",
    "    lgr = LogisticRegression(set_l, max_steps, stopping, log_X_train, y_train, log_X_test, y_test)\n",
    "    train_error, test_error = lgr.run()\n",
    "    train_error_list.append(train_error)\n",
    "    test_error_list.append(test_error)\n",
    "    \n",
    "# plot chart\n",
    "plt.plot(list_of_lambdas, train_error_list, label='Train Error')\n",
    "plt.plot(list_of_lambdas, test_error_list, label='Test Error')\n",
    "plt.ylabel('Error Rate %')\n",
    "plt.xlabel('Lambda Value')\n",
    "plt.title('Training and Testing Data Error Rates vs Lambda Values')\n",
    "plt.legend()\n",
    "plt.show()"
   ]
  },
  {
   "cell_type": "code",
   "execution_count": 23,
   "metadata": {},
   "outputs": [
    {
     "name": "stdout",
     "output_type": "stream",
     "text": [
      "[5.220228384991843, 5.252854812398042, 5.220228384991843, 5.1876019575856445, 5.220228384991843, 5.220228384991843, 5.252854812398042, 5.35073409461664, 5.415986949429037, 5.415986949429037, 5.35073409461664, 5.318107667210441, 5.318107667210441, 5.35073409461664, 5.415986949429037, 5.481239804241436, 5.579119086460032, 5.644371941272431, 5.611745513866231, 5.774877650897227, 5.807504078303426, 5.872756933115824, 6.00326264274062, 6.035889070146819, 6.101141924959217, 6.101141924959217, 6.329526916802609, 6.36215334420881]\n",
      "[5.989583333333334, 5.924479166666666, 5.924479166666666, 5.859375, 5.794270833333334, 5.859375, 5.794270833333334, 5.794270833333334, 5.794270833333334, 5.794270833333334, 5.859375, 5.989583333333334, 5.989583333333334, 6.0546875, 6.0546875, 6.0546875, 6.119791666666666, 6.184895833333334, 6.315104166666667, 6.4453125, 6.510416666666667, 6.510416666666667, 6.510416666666667, 6.510416666666667, 6.510416666666667, 6.510416666666667, 6.640625, 6.770833333333333]\n"
     ]
    }
   ],
   "source": [
    "print(train_error_list)\n",
    "print(test_error_list)"
   ]
  },
  {
   "cell_type": "markdown",
   "metadata": {},
   "source": [
    "#### Q3 (b) \n",
    "##### What do you observe about the training and test errors as lambda changes?\n",
    "Referring to the plot above, in general, the errors for both train and test increase as lambda increases. Specifically, at the beginning when lambda goes from 1 to 7, the train error rates fluctuate around 5.2% while the test error rates fall from around 6% to 5.80% (fall of 0.2%). Subsequently, when lambda increase from 7 to 10, the train error rates increase steeply by around 0.15% while the test error rates fluctuate steadily around 5.8%. As lambda increases from 10 to 20, train error rates fall by around 0.1% while test error rates rise by around 0.2%. Finally, for lambda >=20, both train and test errors rise as lambda increases.<br>\n",
    "For every value of lambda, the test error rates are always higher than the train error rates. The gap between train and test error is narrower when lambda is around 10, 90, 95, and wider when lambda is around 1, 30, 65."
   ]
  },
  {
   "cell_type": "markdown",
   "metadata": {},
   "source": [
    "#### Q3 (c)\n",
    "##### Training and testing error rates for lambda = 1, 10 and 100."
   ]
  },
  {
   "cell_type": "code",
   "execution_count": 24,
   "metadata": {},
   "outputs": [
    {
     "name": "stdout",
     "output_type": "stream",
     "text": [
      "The training error for lambda=1 is:  5.220228384991843%\n",
      "The testing error for lambda=1 is:  5.989583333333334%\n",
      "The training error for lambda=10 is:  5.415986949429037%\n",
      "The testing error for lambda=10 is:  5.794270833333334%\n",
      "The training error for lambda=100 is:  6.36215334420881%\n",
      "The testing error for lambda=100 is:  6.770833333333333%\n"
     ]
    }
   ],
   "source": [
    "for val in [1,10,100]:\n",
    "    idx = list_of_lambdas.index(val)\n",
    "    print('The training error for lambda='+str(list_of_lambdas[idx])+' is: ', str(train_error_list[idx])+'%')\n",
    "    print('The testing error for lambda='+str(list_of_lambdas[idx])+' is: ', str(test_error_list[idx])+'%')"
   ]
  },
  {
   "cell_type": "markdown",
   "metadata": {},
   "source": [
    "### Q4. K-Nearest Neighbors\n",
    "For the log-transformed data, implement a KNN classifier (see week 5 lecture notes on “Nonparametric\n",
    "Classification”). Use the Euclidean distance to measure distance between neighbors. For each value of K, compute the training and test error rates (i.e., percentage of emails classified wrongly)."
   ]
  },
  {
   "cell_type": "code",
   "execution_count": 25,
   "metadata": {},
   "outputs": [],
   "source": [
    "class KNNClassifier():\n",
    "    \n",
    "    def __init__(self, lsk, x_1, y_1, x_2, y_2):\n",
    "        \"\"\"    \n",
    "        lsk: list\n",
    "            list of number of neighbours k parameter\n",
    "        x_1: pandas DataFrame\n",
    "            train features\n",
    "        y_1: pandas DataFrame\n",
    "            train target values\n",
    "        x_2: pandas DataFrame\n",
    "            test features\n",
    "        y_2: pandas DataFrame\n",
    "            test target values\n",
    "        \"\"\"\n",
    "        self.list_of_ks = lsk\n",
    "        self.log_X_train = x_1\n",
    "        self.y_train = y_1\n",
    "        self.log_X_test = x_2\n",
    "        self.y_test = y_2\n",
    "    \n",
    "    # functions\n",
    "    def euclidean_distance(self, vec_1, vec_2):\n",
    "        \"\"\"\n",
    "        Calculates the euclidean distance between two vectors vec_1 and vec_2\n",
    "        \"\"\"\n",
    "        return sum([(one-two)**2 for one, two in zip(vec_1, vec_2)])**0.5\n",
    "\n",
    "    def calculate_error(self, pred, actual):\n",
    "        \"\"\"\n",
    "        Calculate percentage of wrong classification\n",
    "        \"\"\"\n",
    "        return (sum([1 if int(p)!=int(a) else 0 for p,a in zip(pred,actual)])/len(pred))*100\n",
    "    \n",
    "    # steps\n",
    "    def calculate_distances_from_train(self, X_test, X_train, y_train):\n",
    "        \"\"\"\n",
    "        Calculate new data distance from each row of train data\n",
    "        \"\"\"\n",
    "        # create copies (changes not written into original dataframe)\n",
    "        x_test = X_test.copy()\n",
    "        x_train = X_train.copy()\n",
    "        # save number of features var\n",
    "        num_features = int(x_train.shape[1])\n",
    "        # add index and y value into dataframe\n",
    "        x_train['idx'] = x_train.index\n",
    "        x_train['y_val'] = y_train[0]\n",
    "        x_test['idx'] = x_test.index\n",
    "        # join tables together\n",
    "        x_all = x_test.assign(key=1).merge(\n",
    "            x_train.assign(key=1), how='outer', on='key', suffixes =['_test', '_train']\n",
    "        )\n",
    "        # create column to save distance\n",
    "        x_all['distance'] = 0\n",
    "        # loop over every column to add subdistance into total distance\n",
    "        for feature in range(0, num_features):\n",
    "            x_all['distance'] += (x_all[str(feature)+'_test']-x_all[str(feature)+'_train'])**2\n",
    "        # square root overall distance\n",
    "        x_all['distance'] = [x**0.5 for x in x_all['distance']]\n",
    "        # keep only relevant columns in final dataframe\n",
    "        return x_all[['idx_train', 'idx_test', 'distance', 'y_val']]\n",
    "            \n",
    "        # Works but too slow\n",
    "#         pred = []\n",
    "#         # loop through each row of test\n",
    "#         for test_row_idx in range(0, x_test.shape[0]):\n",
    "#             print('Test round:', test_row_idx)\n",
    "#             indexes = []\n",
    "#             distances = []\n",
    "#             # loop through each row of train\n",
    "#             for train_row_idx in range(0, x_train.shape[0]):\n",
    "#                 # calculate distance of test to every item in train\n",
    "#                 dist = self.euclidean_distance(x_test.loc[test_row_idx,:], x_train.loc[train_row_idx,:])\n",
    "#                 # append results\n",
    "#                 indexes.append(train_row_idx)\n",
    "#                 distances.append(dist)\n",
    "#             # end of loop\n",
    "#             pred_idx = [x for _,x in sorted(zip(distances, indexes))][0:self.k]\n",
    "#             pred.append(np.mean(y_train.loc[pred_idx,:])[0])\n",
    "#         pred = [1 if i>0.5 else 0 for i in pred]\n",
    "#         return pred\n",
    "    \n",
    "    def predict(self, distances_df, set_k):\n",
    "        \"\"\"\n",
    "        Predict on new data based on closest k information from train data\n",
    "        \"\"\"\n",
    "        # create copies (changes not written into original dataframe)\n",
    "        df = distances_df.copy()\n",
    "        # sort by smallest to largest distance\n",
    "        df = df.sort_values(by=['idx_test', 'distance'], ascending=['True', 'True'])\n",
    "        # keep top k items per test_idx (i.e. k-items with smallest distance)\n",
    "        df = df.groupby('idx_test').head(set_k).reset_index(drop=True)\n",
    "        # calculate average y value\n",
    "        df = df.groupby('idx_test')[['y_val']].mean().reset_index(drop=True)\n",
    "        # format prediction\n",
    "        pred = [1 if i>0.5 else 0 for i in df['y_val']]\n",
    "        \n",
    "        return pred\n",
    "        \n",
    "    def run(self):\n",
    "        \"\"\"\n",
    "        Run pipeline\n",
    "        \"\"\"\n",
    "        # create copies (changes not written into original dataframe)\n",
    "        x_train = self.log_X_train.copy()\n",
    "        x_test = self.log_X_test.copy()\n",
    "        # get distances\n",
    "        train_distances = self.calculate_distances_from_train(x_train, x_train, self.y_train)\n",
    "        test_distances = self.calculate_distances_from_train(x_test, x_train, self.y_train)\n",
    "        \n",
    "        # initialise empty list for storage\n",
    "        train_error_list = []\n",
    "        test_error_list = []\n",
    "        # put loop in class (unlike others above) to save re-calculation of distances\n",
    "        for set_k in self.list_of_ks:\n",
    "            # get predictions\n",
    "            train_pred = self.predict(train_distances, set_k)\n",
    "            test_pred = self.predict(test_distances, set_k)\n",
    "            # score\n",
    "            train_error = self.calculate_error(train_pred, self.y_train[0])\n",
    "            test_error = self.calculate_error(test_pred, self.y_test[0])  \n",
    "            # append results\n",
    "            train_error_list.append(train_error)\n",
    "            test_error_list.append(test_error)\n",
    "            \n",
    "        # return list of results\n",
    "        return train_error_list, test_error_list"
   ]
  },
  {
   "cell_type": "code",
   "execution_count": 26,
   "metadata": {
    "scrolled": true
   },
   "outputs": [
    {
     "data": {
      "text/plain": [
       "([0.06525285481239804], [6.901041666666667])"
      ]
     },
     "execution_count": 26,
     "metadata": {},
     "output_type": "execute_result"
    }
   ],
   "source": [
    "# trial on one round\n",
    "list_of_ks = [1] \n",
    "knn = KNNClassifier(list_of_ks, log_X_train, y_train, log_X_test, y_test)\n",
    "knn.run()"
   ]
  },
  {
   "cell_type": "markdown",
   "metadata": {},
   "source": [
    "#### Q4 (a)\n",
    "###### Plot errors across lambda = {1, 2, · · · , 9, 10, 15, 20, · · · , 95, 100}"
   ]
  },
  {
   "cell_type": "code",
   "execution_count": 27,
   "metadata": {},
   "outputs": [
    {
     "data": {
      "image/png": "[encoded data removed]",
      "text/plain": [
       "<Figure size 432x288 with 1 Axes>"
      ]
     },
     "metadata": {
      "needs_background": "light"
     },
     "output_type": "display_data"
    }
   ],
   "source": [
    "list_of_ks = list(np.arange(1, 10, 1))\n",
    "list_of_ks.extend(list(np.arange(10, 105, 5)))\n",
    "\n",
    "# loop over k values\n",
    "knn = KNNClassifier(list_of_ks, log_X_train, y_train, log_X_test, y_test)\n",
    "train_error_list, test_error_list = knn.run()\n",
    "\n",
    "# plot chart\n",
    "plt.plot(list_of_ks, train_error_list, label='Train Error')\n",
    "plt.plot(list_of_ks, test_error_list, label='Test Error')\n",
    "plt.ylabel('Error Rate %')\n",
    "plt.xlabel('K Value')\n",
    "plt.title('Training and Testing Data Error Rates vs K Values')\n",
    "plt.legend()\n",
    "plt.show()"
   ]
  },
  {
   "cell_type": "code",
   "execution_count": 28,
   "metadata": {},
   "outputs": [
    {
     "name": "stdout",
     "output_type": "stream",
     "text": [
      "[0.06525285481239804, 3.4910277324632957, 3.230016313213703, 4.143556280587276, 3.7846655791190864, 4.274061990212072, 4.306688417618271, 4.861337683523654, 4.567699836867863, 5.024469820554649, 5.1876019575856445, 5.579119086460032, 5.9053833605220225, 6.2642740619902115, 6.557911908646004, 7.243066884176183, 7.308319738988581, 7.569331158238173, 7.6672104404567705, 7.99347471451876, 7.862969004893965, 8.352365415986949, 8.64600326264274, 8.841761827079935, 8.841761827079935, 9.29853181076672, 8.97226753670473, 9.168026101141926]\n",
      "[6.901041666666667, 8.3984375, 6.315104166666667, 6.4453125, 5.924479166666666, 6.510416666666667, 6.770833333333333, 7.2265625, 7.096354166666667, 7.356770833333333, 7.03125, 6.966145833333333, 7.161458333333333, 7.356770833333333, 7.552083333333333, 7.877604166666667, 7.942708333333333, 8.072916666666668, 8.072916666666668, 8.072916666666668, 8.138020833333332, 8.463541666666668, 8.658854166666668, 8.723958333333332, 8.658854166666668, 9.114583333333332, 8.984375, 9.1796875]\n"
     ]
    }
   ],
   "source": [
    "print(train_error_list)\n",
    "print(test_error_list)"
   ]
  },
  {
   "cell_type": "markdown",
   "metadata": {},
   "source": [
    "#### Q4 (b) \n",
    "##### What do you observe about the training and test errors as K changes?\n",
    "Referring to the plot above, in general, the errors for both train and test increase as K increases. Specifically, at the beginning when K goes from 1 to 2, the train error rates increase very sharply from around 0% to 3.5% while the test error rates also increase fairly from about 6.9% to 8.4%. Subsequently, when K increases from 2 to 5, the train error rates increase steadily by around 0.2% while the test error rates decrease sharply by around 2.4%. As K increases from 5 to 10, train error rates continue its steady increase by around 0.7% while test error rates begin to rise by about 2.4%. As K increases from 10 to 20, train error rates continue its increase by around 0.5% while test error rates drop slightly by around 0.35%. Finally, for K >=20, both train and test error rates rise as K increases.<br>\n",
    "For K<=75, the test error rates are always higher than the train error rates. The gap between train and test error is widest when K is around 1 and the gap reduces as K increases. At K=60, the train and test error rates are very similar. When K>75, the train error rates become slightly higher or slightly below but still very close to test error rates."
   ]
  },
  {
   "cell_type": "markdown",
   "metadata": {},
   "source": [
    "#### Q4 (c)\n",
    "##### Training and testing error rates for K = 1, 10 and 100."
   ]
  },
  {
   "cell_type": "code",
   "execution_count": 29,
   "metadata": {},
   "outputs": [
    {
     "name": "stdout",
     "output_type": "stream",
     "text": [
      "The training error for K=1 is:  0.06525285481239804%\n",
      "The testing error for K=1 is:  6.901041666666667%\n",
      "The training error for K=10 is:  5.024469820554649%\n",
      "The testing error for K=10 is:  7.356770833333333%\n",
      "The training error for K=100 is:  9.168026101141926%\n",
      "The testing error for K=100 is:  9.1796875%\n"
     ]
    }
   ],
   "source": [
    "for val in [1,10,100]:\n",
    "    idx = list_of_ks.index(val)\n",
    "    print('The training error for K='+str(list_of_ks[idx])+' is: ', str(train_error_list[idx])+'%')\n",
    "    print('The testing error for K='+str(list_of_ks[idx])+' is: ', str(test_error_list[idx])+'%')"
   ]
  },
  {
   "cell_type": "markdown",
   "metadata": {},
   "source": [
    "### Q5. Survey\n",
    "##### Please give an estimate of how much time you spent on this assignment.\n",
    "Took around 30 hours to complete."
   ]
  },
  {
   "cell_type": "markdown",
   "metadata": {},
   "source": [
    "<< END >>"
   ]
  },
  {
   "cell_type": "code",
   "execution_count": null,
   "metadata": {},
   "outputs": [],
   "source": []
  }
 ],
 "metadata": {
  "kernelspec": {
   "display_name": "Python 3",
   "language": "python",
   "name": "python3"
  },
  "language_info": {
   "codemirror_mode": {
    "name": "ipython",
    "version": 3
   },
   "file_extension": ".py",
   "mimetype": "text/x-python",
   "name": "python",
   "nbconvert_exporter": "python",
   "pygments_lexer": "ipython3",
   "version": "3.6.10"
  }
 },
 "nbformat": 4,
 "nbformat_minor": 4
}
